{
 "cells": [
  {
   "cell_type": "markdown",
   "metadata": {},
   "source": [
    "## Egyszerű példa átlag- és pillanatnyi sebesség numerikus közelítésére."
   ]
  },
  {
   "cell_type": "code",
   "execution_count": 29,
   "metadata": {},
   "outputs": [],
   "source": [
    "import numpy as np # mindenféle számolós bővítmény"
   ]
  },
  {
   "cell_type": "code",
   "execution_count": 30,
   "metadata": {},
   "outputs": [],
   "source": [
    "# átlagsebesség-számoló függvény:\n",
    "\n",
    "def atlseb(xt, t1, t2):\n",
    "    deltax=xt(t2)-xt(t1)\n",
    "    deltat=t2-t1\n",
    "    return(deltax/deltat)"
   ]
  },
  {
   "cell_type": "markdown",
   "metadata": {},
   "source": [
    "$$\\overline{v}(t_1, t_2)=\\frac{x(t_2)-x(t_1)}{t_2-t_1}$$"
   ]
  },
  {
   "cell_type": "code",
   "execution_count": 31,
   "metadata": {},
   "outputs": [],
   "source": [
    "# egy egyszerű x(t) függvény:\n",
    "\n",
    "def xt_1(t):\n",
    "    return(9.81/2*t*t)"
   ]
  },
  {
   "cell_type": "markdown",
   "metadata": {},
   "source": [
    "$$x(t)=\\frac{g}2 t^2, \\qquad g=9.81$$"
   ]
  },
  {
   "cell_type": "code",
   "execution_count": 5,
   "metadata": {},
   "outputs": [
    {
     "name": "stdout",
     "output_type": "stream",
     "text": [
      "10.300500000000001\n"
     ]
    }
   ],
   "source": [
    "# próbáljuk ki:\n",
    "\n",
    "print(atlseb(xt_1, 1.0, 1.1))"
   ]
  },
  {
   "cell_type": "markdown",
   "metadata": {},
   "source": [
    "$$v(t)\\approx \\overline{v}(t, t+\\Delta t)$$"
   ]
  },
  {
   "cell_type": "code",
   "execution_count": 36,
   "metadata": {},
   "outputs": [
    {
     "name": "stdout",
     "output_type": "stream",
     "text": [
      "12.262499999999998\n",
      "10.300500000000001\n",
      "9.859050000000016\n"
     ]
    }
   ],
   "source": [
    "# csökkentsük deltat-t:\n",
    "print(atlseb(xt_1, 1.0, 1.5))\n",
    "print(atlseb(xt_1, 1.0, 1.1))\n",
    "print(atlseb(xt_1, 1.0, 1.01))"
   ]
  },
  {
   "cell_type": "code",
   "execution_count": 37,
   "metadata": {},
   "outputs": [],
   "source": [
    "# most csináljuk programmal:\n",
    "\n",
    "def atlseb_tab(xt, t1, deltat0, szorzo, N):\n",
    "    deltat=deltat0\n",
    "    for i in range(N):\n",
    "        print(\"%7.3e    %7.3f\"%(deltat, atlseb(xt,t1, t1+deltat)))\n",
    "        deltat*=szorzo"
   ]
  },
  {
   "cell_type": "code",
   "execution_count": 38,
   "metadata": {},
   "outputs": [
    {
     "name": "stdout",
     "output_type": "stream",
     "text": [
      "1.000e+00     14.715\n",
      "2.000e-01     10.791\n",
      "4.000e-02     10.006\n",
      "8.000e-03      9.849\n",
      "1.600e-03      9.818\n",
      "3.200e-04      9.812\n",
      "6.400e-05      9.810\n",
      "1.280e-05      9.810\n",
      "2.560e-06      9.810\n",
      "5.120e-07      9.810\n"
     ]
    }
   ],
   "source": [
    "# próbáljuk ki:\n",
    "atlseb_tab(xt_1, 1.0, 1.0, 0.2, 10)"
   ]
  },
  {
   "cell_type": "markdown",
   "metadata": {},
   "source": [
    "$$x_2(t)=5*\\sin(3*t)$$"
   ]
  },
  {
   "cell_type": "code",
   "execution_count": 9,
   "metadata": {},
   "outputs": [
    {
     "name": "stdout",
     "output_type": "stream",
     "text": [
      "1.000e+00     -5.036\n",
      "1.000e-01     10.934\n",
      "1.000e-02     12.251\n",
      "1.000e-03     12.367\n",
      "1.000e-04     12.379\n",
      "1.000e-05     12.380\n",
      "1.000e-06     12.380\n",
      "1.000e-07     12.380\n"
     ]
    }
   ],
   "source": [
    "# bonyolultabb eset: (nem ismerős ez a jegyzetből?)\n",
    "\n",
    "def xt_2(t):\n",
    "    return(5*np.sin(3*t))   # np.sin(): a szinusz függvény a np csomagból (alapból nem tudja a Python)\n",
    "\n",
    "atlseb_tab(xt_2, 0.2, 1.0, 0.1, 8)"
   ]
  },
  {
   "cell_type": "code",
   "execution_count": 10,
   "metadata": {},
   "outputs": [],
   "source": [
    "# kicsit pontosabb, ha szimmetrikusan fogjuk közre a pontot\n",
    "# azaz [t-deltat, t+deltat] közt számolunk átlagsebességet\n",
    "def atlseb_tab_centr(xt, t1, deltat0, szorzo, N):\n",
    "    deltat=deltat0\n",
    "    for i in range(N):\n",
    "        print(\"%7.3e    %7.3f\"%(deltat, atlseb(xt, t1-deltat, t1+deltat)))\n",
    "        deltat*=szorzo"
   ]
  },
  {
   "cell_type": "markdown",
   "metadata": {},
   "source": [
    "$$v(t)\\approx \\overline{v}(t+\\Delta t, t-\\Delta t)$$"
   ]
  },
  {
   "cell_type": "code",
   "execution_count": 45,
   "metadata": {},
   "outputs": [
    {
     "name": "stdout",
     "output_type": "stream",
     "text": [
      "Centrális derivált közelítés:\n",
      "1.000e+00      0.582\n",
      "1.000e-01     12.195\n",
      "1.000e-02     12.378\n",
      "1.000e-03     12.380\n",
      "1.000e-04     12.380\n",
      "1.000e-05     12.380\n",
      "1.000e-06     12.380\n",
      "1.000e-07     12.380\n",
      "\n",
      "Jobb oldali derivált közelítés:\n",
      "1.000e+00     -5.036\n",
      "1.000e-01     10.934\n",
      "1.000e-02     12.251\n",
      "1.000e-03     12.367\n",
      "1.000e-04     12.379\n",
      "1.000e-05     12.380\n",
      "1.000e-06     12.380\n",
      "1.000e-07     12.380\n"
     ]
    }
   ],
   "source": [
    "print(\"Centrális derivált közelítés:\")\n",
    "atlseb_tab_centr(xt_2, 0.2, 1.0, 0.1, 8)\n",
    "\n",
    "print(\"\\nJobb oldali derivált közelítés:\")\n",
    "atlseb_tab(xt_2, 0.2, 1.0, 0.1, 8)"
   ]
  },
  {
   "cell_type": "markdown",
   "metadata": {},
   "source": [
    "Sokkal előbb elértük a kívánt pontosságot!"
   ]
  },
  {
   "cell_type": "code",
   "execution_count": 41,
   "metadata": {},
   "outputs": [
    {
     "name": "stdout",
     "output_type": "stream",
     "text": [
      "1.000e+00      0.186\n",
      "1.000e-01     -0.488\n",
      "1.000e-02     -0.527\n",
      "1.000e-03     -0.527\n",
      "1.000e-04     -0.527\n",
      "1.000e-05     -0.527\n",
      "1.000e-06     -0.527\n",
      "1.000e-07     -0.527\n"
     ]
    }
   ],
   "source": [
    "# most már jöhet bármilyen bonyolult függvény:\n",
    "\n",
    "def xt_3(t):\n",
    "    return(4.0*np.sin(t*t)*np.exp(-0.6*t))\n",
    "\n",
    "atlseb_tab_centr(xt_3, 4.125, 1.0, 0.1, 8)"
   ]
  },
  {
   "cell_type": "markdown",
   "metadata": {},
   "source": [
    "## És egy kis demo, mit tud a sympy modul: (nem kötelező anyag!)"
   ]
  },
  {
   "cell_type": "code",
   "execution_count": 14,
   "metadata": {},
   "outputs": [
    {
     "name": "stdout",
     "output_type": "stream",
     "text": [
      "8*t*exp(-0.6*t)*cos(t**2) - 2.4*exp(-0.6*t)*sin(t**2)\n"
     ]
    }
   ],
   "source": [
    "from sympy import *\n",
    "\n",
    "t=symbols('t')                 # t nem konkrét érték, hanem szimbólum\n",
    "xtfun=4*sin(t**2)*exp(-0.6*t)   # ez egy x(t) függvény\n",
    "vtfun=diff(xtfun, t)           # deriváltja a v(t) függvény\n",
    "print(vtfun)                   # hogy is néz ki?"
   ]
  },
  {
   "cell_type": "code",
   "execution_count": 15,
   "metadata": {},
   "outputs": [
    {
     "data": {
      "text/latex": [
       "$\\displaystyle -0.527381354323332$"
      ],
      "text/plain": [
       "-0.527381354323332"
      ]
     },
     "execution_count": 15,
     "metadata": {},
     "output_type": "execute_result"
    }
   ],
   "source": [
    "# behelyettesítünk (substitute) t helyére 5.5-öt\n",
    "vtfun.subs(t, 4.125)"
   ]
  },
  {
   "cell_type": "code",
   "execution_count": 16,
   "metadata": {},
   "outputs": [
    {
     "name": "stdout",
     "output_type": "stream",
     "text": [
      "-16*t**2*exp(-0.6*t)*sin(t**2) - 9.6*t*exp(-0.6*t)*cos(t**2) + 1.44*exp(-0.6*t)*sin(t**2) + 8*exp(-0.6*t)*cos(t**2)\n"
     ]
    },
    {
     "data": {
      "text/latex": [
       "$\\displaystyle \\left(- 16 t^{2} \\sin{\\left(t^{2} \\right)} - 9.6 t \\cos{\\left(t^{2} \\right)} + 1.44 \\sin{\\left(t^{2} \\right)} + 8 \\cos{\\left(t^{2} \\right)}\\right) e^{- 0.6 t}$"
      ],
      "text/plain": [
       "(-16*t**2*sin(t**2) - 9.6*t*cos(t**2) + 1.44*sin(t**2) + 8*cos(t**2))*exp(-0.6*t)"
      ]
     },
     "execution_count": 16,
     "metadata": {},
     "output_type": "execute_result"
    }
   ],
   "source": [
    "atfun=diff(vtfun,t)  # ez meg a gyorsulása\n",
    "print(atfun)    # eredeti alakban\n",
    "simplify(atfun)   # egyszerűsítve"
   ]
  },
  {
   "cell_type": "code",
   "execution_count": 17,
   "metadata": {},
   "outputs": [
    {
     "data": {
      "text/latex": [
       "$\\displaystyle - 16 t^{2} e^{- 0.6 t} \\sin{\\left(t^{2} \\right)} - 9.6 t e^{- 0.6 t} \\cos{\\left(t^{2} \\right)} + 1.44 e^{- 0.6 t} \\sin{\\left(t^{2} \\right)} + 8 e^{- 0.6 t} \\cos{\\left(t^{2} \\right)}$"
      ],
      "text/plain": [
       "-16*t**2*exp(-0.6*t)*sin(t**2) - 9.6*t*exp(-0.6*t)*cos(t**2) + 1.44*exp(-0.6*t)*sin(t**2) + 8*exp(-0.6*t)*cos(t**2)"
      ]
     },
     "execution_count": 17,
     "metadata": {},
     "output_type": "execute_result"
    }
   ],
   "source": [
    "atfun    # eredeti alakban"
   ]
  },
  {
   "cell_type": "code",
   "execution_count": 18,
   "metadata": {},
   "outputs": [
    {
     "data": {
      "text/latex": [
       "$\\displaystyle \\left(- 16 t^{2} \\sin{\\left(t^{2} \\right)} - 9.6 t \\cos{\\left(t^{2} \\right)} + 1.44 \\sin{\\left(t^{2} \\right)} + 8 \\cos{\\left(t^{2} \\right)}\\right) e^{- 0.6 t}$"
      ],
      "text/plain": [
       "(-16*t**2*sin(t**2) - 9.6*t*cos(t**2) + 1.44*sin(t**2) + 8*cos(t**2))*exp(-0.6*t)"
      ]
     },
     "execution_count": 18,
     "metadata": {},
     "output_type": "execute_result"
    }
   ],
   "source": [
    "simplify(atfun)"
   ]
  },
  {
   "cell_type": "code",
   "execution_count": null,
   "metadata": {},
   "outputs": [],
   "source": []
  }
 ],
 "metadata": {
  "kernelspec": {
   "display_name": "Python 3",
   "language": "python",
   "name": "python3"
  },
  "language_info": {
   "codemirror_mode": {
    "name": "ipython",
    "version": 3
   },
   "file_extension": ".py",
   "mimetype": "text/x-python",
   "name": "python",
   "nbconvert_exporter": "python",
   "pygments_lexer": "ipython3",
   "version": "3.8.10"
  }
 },
 "nbformat": 4,
 "nbformat_minor": 2
}
